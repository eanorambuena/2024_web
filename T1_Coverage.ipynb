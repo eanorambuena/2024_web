{
  "nbformat": 4,
  "nbformat_minor": 0,
  "metadata": {
    "colab": {
      "provenance": [],
      "include_colab_link": true
    },
    "kernelspec": {
      "name": "python3",
      "display_name": "Python 3"
    },
    "language_info": {
      "name": "python"
    }
  },
  "cells": [
    {
      "cell_type": "markdown",
      "metadata": {
        "id": "view-in-github",
        "colab_type": "text"
      },
      "source": [
        "<a href=\"https://colab.research.google.com/github/eanorambuena/2024_web/blob/main/T1_Coverage.ipynb\" target=\"_parent\"><img src=\"https://colab.research.google.com/assets/colab-badge.svg\" alt=\"Open In Colab\"/></a>"
      ]
    },
    {
      "cell_type": "markdown",
      "source": [
        "# Tarea 1: Parte A"
      ],
      "metadata": {
        "id": "nnZrPXSfuhMo"
      }
    },
    {
      "cell_type": "markdown",
      "source": [
        "## Clase Coverage\n",
        "\n",
        "Tome de base la clase Coverage del libro fuzzing-book. La tarea consiste en mejorar esta clase para que el reporte de coverage se vea a nivel de clase y método. Es decir debe decir que porcentaje de cada clase fue cubierto o porcentaje de cada método."
      ],
      "metadata": {
        "id": "Te-8LkvNWx4i"
      }
    },
    {
      "cell_type": "code",
      "execution_count": 195,
      "metadata": {
        "id": "K4hHENGPuME2"
      },
      "outputs": [],
      "source": [
        "import sys\n",
        "import inspect\n",
        "from types import FrameType, TracebackType\n",
        "from typing import Any, Callable, List, Optional, Set, Tuple, Type, Dict\n",
        "\n",
        "Location = Tuple[str, int]\n",
        "\n",
        "class Coverage:\n",
        "    \"\"\"Track coverage within a `with` block. Use as\n",
        "    ```\n",
        "    with Coverage() as cov:\n",
        "        function_to_be_traced()\n",
        "    c = cov.coverage()\n",
        "    ```\n",
        "    \"\"\"\n",
        "\n",
        "    def __init__(self, *classes_to_check) -> None:\n",
        "        \"\"\"Constructor\"\"\"\n",
        "        self._trace: List[Location] = []\n",
        "        self._classes_to_check = classes_to_check\n",
        "\n",
        "    # Trace function\n",
        "    def traceit(self, frame: FrameType, event: str, arg: Any) -> Optional[Callable]:\n",
        "        \"\"\"Tracing function. To be overloaded in subclasses.\"\"\"\n",
        "        if self.original_trace_function is not None:\n",
        "            self.original_trace_function(frame, event, arg)\n",
        "\n",
        "        if event == \"line\":\n",
        "            function_name = frame.f_code.co_name\n",
        "            lineno = frame.f_lineno\n",
        "            if function_name != '__exit__':  # avoid tracing ourselves:\n",
        "                self._trace.append((function_name, lineno))\n",
        "\n",
        "        return self.traceit\n",
        "\n",
        "    def __enter__(self) -> Any:\n",
        "        \"\"\"Start of `with` block. Turn on tracing.\"\"\"\n",
        "        self.original_trace_function = sys.gettrace()\n",
        "        sys.settrace(self.traceit)\n",
        "        return self\n",
        "\n",
        "    def __exit__(self, exc_type: Type, exc_value: BaseException,\n",
        "                 tb: TracebackType) -> Optional[bool]:\n",
        "        \"\"\"End of `with` block. Turn off tracing.\"\"\"\n",
        "        sys.settrace(self.original_trace_function)\n",
        "        return None  # default: pass all exceptions\n",
        "\n",
        "    def trace(self) -> List[Location]:\n",
        "        \"\"\"The list of executed lines, as (function_name, line_number) pairs\"\"\"\n",
        "        return self._trace\n",
        "\n",
        "    def coverage(self) -> Set[Location]:\n",
        "        \"\"\"The set of executed lines, as (function_name, line_number) pairs\"\"\"\n",
        "        return set(self.trace())\n",
        "\n",
        "    def function_names(self) -> Set[str]:\n",
        "        \"\"\"The set of function names seen\"\"\"\n",
        "        return set(function_name for (function_name, line_number) in self.coverage())\n",
        "\n",
        "    def report(self):\n",
        "        \"\"\"Returns the formatted report string\"\"\"\n",
        "        covered_functions = self.function_names()\n",
        "        class_coverage_outputs = []\n",
        "\n",
        "        for cls in self._classes_to_check:\n",
        "            method_coverage_outputs = []\n",
        "            cls_method_names = [name for name, _ in inspect.getmembers(cls, predicate=inspect.isfunction) if not name.startswith('__')]\n",
        "            number_of_covered_methods = 0\n",
        "            for method in cls_method_names:\n",
        "                is_method_covered = method in covered_functions\n",
        "                method_coverage_outputs.append(f\"\\t{method}: {is_method_covered}\")\n",
        "                if is_method_covered:\n",
        "                  number_of_covered_methods += 1\n",
        "            class_coverage_outputs.append(f\"Class {cls.__name__}: {number_of_covered_methods/len(cls_method_names)*100}%\\n{'\\n'.join(method_coverage_outputs)}\")\n",
        "\n",
        "        return \"\\n\".join(class_coverage_outputs)"
      ]
    },
    {
      "cell_type": "markdown",
      "source": [
        "## Caso de Estudio 1: Clock y User Session\n",
        "\n",
        "\n"
      ],
      "metadata": {
        "id": "AhbEDaZgW2DZ"
      }
    },
    {
      "cell_type": "markdown",
      "source": [
        "### Run Test Method"
      ],
      "metadata": {
        "id": "gFnJo7IuXIQ7"
      }
    },
    {
      "cell_type": "code",
      "source": [
        "def runTests(testClass):\n",
        "    loader = unittest.TestLoader()\n",
        "    suite = loader.loadTestsFromTestCase(testClass)\n",
        "    runner = unittest.TextTestRunner()\n",
        "    runner.run(suite)"
      ],
      "metadata": {
        "id": "yFTB9rqtXHDp"
      },
      "execution_count": 196,
      "outputs": []
    },
    {
      "cell_type": "markdown",
      "source": [
        "### Clases Under Tests"
      ],
      "metadata": {
        "id": "EYr0shK0XBVo"
      }
    },
    {
      "cell_type": "code",
      "source": [
        "from datetime import timedelta\n",
        "from datetime import datetime\n",
        "\n",
        "class Clock:\n",
        "    count = 0\n",
        "    def __init__(self):\n",
        "        Clock.count += 1\n",
        "\n",
        "    def now(self):\n",
        "        return datetime.now()\n",
        "\n",
        "    @classmethod\n",
        "    def get_instance_count(cls):\n",
        "        return cls.count\n",
        "\n",
        "class UserSession:\n",
        "    def __init__(self, user_id: str, clock: Clock = None):\n",
        "        self.user_id = user_id\n",
        "        self.logged_in = False\n",
        "        self.login_time = None\n",
        "        self.failed_attempts = 0\n",
        "        self.clock = clock or Clock()\n",
        "\n",
        "    def login(self, password: str) -> None:\n",
        "        if self.logged_in:\n",
        "            raise ValueError(\"User already logged in\")\n",
        "        if not self._check_password(password):\n",
        "            self.failed_attempts += 1\n",
        "            if self.failed_attempts >= 3:\n",
        "                raise ValueError(\"Too many failed attempts\")\n",
        "            raise ValueError(\"Invalid password\")\n",
        "        self.logged_in = True\n",
        "        self.login_time = self.clock.now()\n",
        "        self.failed_attempts = 0\n",
        "\n",
        "    def logout(self) -> None:\n",
        "        if not self.logged_in:\n",
        "            raise ValueError(\"User not logged in\")\n",
        "        self.logged_in = False\n",
        "        self.login_time = None\n",
        "\n",
        "    def is_session_active(self) -> bool:\n",
        "        if not self.logged_in:\n",
        "            return False\n",
        "        if self.clock.now() - self.login_time > timedelta(minutes=30):\n",
        "            self.logged_in = False\n",
        "            return False\n",
        "        return True\n",
        "\n",
        "    def _check_password(self, password: str) -> bool:\n",
        "        return password == \"secure123\""
      ],
      "metadata": {
        "id": "WXJdKsMIump-"
      },
      "execution_count": 197,
      "outputs": []
    },
    {
      "cell_type": "markdown",
      "source": [
        "### Unit Tests"
      ],
      "metadata": {
        "id": "FbdcOPbrXOTL"
      }
    },
    {
      "cell_type": "code",
      "source": [
        "import unittest\n",
        "from unittest.mock import Mock\n",
        "from datetime import datetime, timedelta\n",
        "\n",
        "class TestUserSession(unittest.TestCase):\n",
        "    def test_successful_login(self):\n",
        "        self.start_time = datetime(2023, 1, 1, 12, 0, 0)\n",
        "        self.clock = Mock()\n",
        "        self.clock.now.return_value = self.start_time\n",
        "        self.session = UserSession(\"user123\", clock=self.clock)\n",
        "        self.session.login(\"secure123\")\n",
        "        self.assertTrue(self.session.logged_in)\n",
        "        self.assertEqual(self.session.login_time, self.start_time)\n",
        "        self.assertEqual(self.session.failed_attempts, 0)\n",
        "        self.assertTrue(self.session.is_session_active())\n",
        "\n",
        "    def test_not_successful_login(self):\n",
        "        self.start_time = datetime(2023, 1, 1, 12, 0, 0)\n",
        "        self.clock = Mock()\n",
        "        self.clock.now.return_value = self.start_time\n",
        "        self.session = UserSession(\"user123\", clock=self.clock)\n",
        "        with self.assertRaises(ValueError) as cm:\n",
        "            self.session.login(\"secure1234\")\n",
        "        self.assertEqual(str(cm.exception), \"Invalid password\")\n",
        "        self.assertFalse(self.session.is_session_active())"
      ],
      "metadata": {
        "id": "P7WuEwJDbM7q"
      },
      "execution_count": 198,
      "outputs": []
    },
    {
      "cell_type": "markdown",
      "source": [
        "### Prueba 1: Coverage Report\n",
        "\n",
        "Modifique la calse Coverage Report para que reciba como argumento las clases de las cuales se quiere analizar la covertura. Ademas agregue un método report que devuelve un string formateado con el reporte."
      ],
      "metadata": {
        "id": "0BrjM5TSXQuJ"
      }
    },
    {
      "cell_type": "code",
      "source": [
        "with Coverage(UserSession, Clock) as cov:\n",
        "    runTests(TestUserSession)\n",
        "\n",
        "print(cov.report())"
      ],
      "metadata": {
        "id": "r67auD89ulcS",
        "outputId": "b67b39f8-3ca3-4578-ee66-55fc502fa890",
        "colab": {
          "base_uri": "https://localhost:8080/"
        }
      },
      "execution_count": 199,
      "outputs": [
        {
          "output_type": "stream",
          "name": "stderr",
          "text": [
            "..\n",
            "----------------------------------------------------------------------\n",
            "Ran 2 tests in 0.006s\n",
            "\n",
            "OK\n"
          ]
        },
        {
          "output_type": "stream",
          "name": "stdout",
          "text": [
            "Class UserSession: 75.0%\n",
            "\t_check_password: True\n",
            "\tis_session_active: True\n",
            "\tlogin: True\n",
            "\tlogout: False\n",
            "Class Clock: 0.0%\n",
            "\tnow: False\n"
          ]
        }
      ]
    },
    {
      "cell_type": "markdown",
      "source": [
        "## Caso Estudio 2: Escriba un Segundo Caso de Estudio para probar que su solución\n",
        "Esto demostrar que su solución funciona para analizar cualquier clase y no solo las del caso de estudio 1."
      ],
      "metadata": {
        "id": "39ZkxLiIXT9A"
      }
    },
    {
      "cell_type": "markdown",
      "source": [
        "### Units Under Tests"
      ],
      "metadata": {
        "id": "Om4MttDBXWB7"
      }
    },
    {
      "cell_type": "code",
      "source": [
        "## Ingrese tres clases que colaboran entre si\n",
        "class Persona:\n",
        "    def __init__(self, nombre):\n",
        "        self._nombre = nombre\n",
        "\n",
        "    def obtener_nombre(self):\n",
        "        return self._nombre\n",
        "\n",
        "    def obtener_pais(self):\n",
        "        return \"Chile\"\n",
        "\n",
        "class Apuesta:\n",
        "    def __init__(self, objeto, accion):\n",
        "        self._objeto = objeto\n",
        "        self._accion = accion\n",
        "\n",
        "    def obtener_apuesta(self):\n",
        "        return f\"te apuesto un {self._objeto} a que {self._accion}\"\n",
        "\n",
        "class Saludador:\n",
        "    def obtener_saludo(self, persona, apuesta):\n",
        "        return f\"Hola soy {persona.obtener_nombre()} y {apuesta.obtener_apuesta}\""
      ],
      "metadata": {
        "id": "QYknH2WgXYXs"
      },
      "execution_count": 200,
      "outputs": []
    },
    {
      "cell_type": "markdown",
      "source": [
        "### Unit Tests"
      ],
      "metadata": {
        "id": "d3jrK0rLXc_k"
      }
    },
    {
      "cell_type": "code",
      "source": [
        "## Ingrese unit test para las clases anteriores\n",
        "import unittest\n",
        "from unittest.mock import Mock\n",
        "from datetime import datetime, timedelta\n",
        "\n",
        "class TestPersona(unittest.TestCase):\n",
        "    def test_successful_saludar(self):\n",
        "        persona = Persona(\"Germán\")\n",
        "        self.assertEqual(persona.obtener_nombre(), \"Germán\")\n",
        "\n",
        "class TestApuesta(unittest.TestCase):\n",
        "    def test_successful_apuesta(self):\n",
        "        apuesta = Apuesta(\"naranja\", \"duermes con los ojos cerrados\")\n",
        "        self.assertGreater(len(apuesta.obtener_apuesta()), 0)\n",
        "\n",
        "class TestSaludador(unittest.TestCase):\n",
        "    def test_successful_saludar(self):\n",
        "        persona = Persona(\"Germán\")\n",
        "        apuesta = Apuesta(\"naranja\", \"duermes con los ojos cerrados\")\n",
        "        saludador = Saludador()\n",
        "        self.assertGreater(len(saludador.obtener_saludo(persona, apuesta)), 0)"
      ],
      "metadata": {
        "id": "wceooxmaXeoi"
      },
      "execution_count": 201,
      "outputs": []
    },
    {
      "cell_type": "markdown",
      "source": [
        "### Prueba 2: Coverage Report"
      ],
      "metadata": {
        "id": "-VzCJAcBXjlk"
      }
    },
    {
      "cell_type": "code",
      "source": [
        "# Escriba un script para analizar el coverage del caso de estudio 2\n",
        "\n",
        "# with Coverage( <clases under test> ) as cov:\n",
        "#    runTests(<test class>)\n",
        "#    runTests(<test class>)\n",
        "#    runTests(<test class>)\n",
        "\n",
        "# print(cov.report())\n",
        "\n",
        "with Coverage(Persona, Apuesta, Saludador) as cov:\n",
        "    runTests(TestPersona)\n",
        "    runTests(TestApuesta)\n",
        "    runTests(TestSaludador)\n",
        "\n",
        "print(cov.report())"
      ],
      "metadata": {
        "id": "mlwmtah9Xkso",
        "outputId": "b579bd4e-489d-49f2-cd08-c283e4acaabc",
        "colab": {
          "base_uri": "https://localhost:8080/"
        }
      },
      "execution_count": 202,
      "outputs": [
        {
          "output_type": "stream",
          "name": "stderr",
          "text": [
            ".\n",
            "----------------------------------------------------------------------\n",
            "Ran 1 test in 0.002s\n",
            "\n",
            "OK\n",
            ".\n",
            "----------------------------------------------------------------------\n",
            "Ran 1 test in 0.002s\n",
            "\n",
            "OK\n",
            ".\n",
            "----------------------------------------------------------------------\n",
            "Ran 1 test in 0.004s\n",
            "\n",
            "OK\n"
          ]
        },
        {
          "output_type": "stream",
          "name": "stdout",
          "text": [
            "Class Persona: 50.0%\n",
            "\tobtener_nombre: True\n",
            "\tobtener_pais: False\n",
            "Class Apuesta: 100.0%\n",
            "\tobtener_apuesta: True\n",
            "Class Saludador: 100.0%\n",
            "\tobtener_saludo: True\n"
          ]
        }
      ]
    }
  ]
}