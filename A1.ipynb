{
  "nbformat": 4,
  "nbformat_minor": 0,
  "metadata": {
    "colab": {
      "provenance": [],
      "include_colab_link": true
    },
    "kernelspec": {
      "name": "python3",
      "display_name": "Python 3"
    },
    "language_info": {
      "name": "python"
    }
  },
  "cells": [
    {
      "cell_type": "markdown",
      "metadata": {
        "id": "view-in-github",
        "colab_type": "text"
      },
      "source": [
        "<a href=\"https://colab.research.google.com/github/eanorambuena/2024_web/blob/main/A1.ipynb\" target=\"_parent\"><img src=\"https://colab.research.google.com/assets/colab-badge.svg\" alt=\"Open In Colab\"/></a>"
      ]
    },
    {
      "cell_type": "markdown",
      "source": [
        "# Load Requirements\n",
        "\n",
        "Instala la librería que permite calcular el coverage."
      ],
      "metadata": {
        "id": "fjt0xXHMtzIG"
      }
    },
    {
      "cell_type": "code",
      "source": [
        "from IPython.display import clear_output\n",
        "%pip install coverage\n",
        "clear_output()\n",
        "import unittest"
      ],
      "metadata": {
        "id": "71Fj5qn_t1XZ"
      },
      "execution_count": 276,
      "outputs": []
    },
    {
      "cell_type": "markdown",
      "source": [
        "Permite ejecutar los test de una test class particular."
      ],
      "metadata": {
        "id": "SXPOxIkZrwLx"
      }
    },
    {
      "cell_type": "code",
      "source": [
        "def runTests(testClass):\n",
        "    loader = unittest.TestLoader()\n",
        "    suite = loader.loadTestsFromTestCase(testClass)\n",
        "    runner = unittest.TextTestRunner()\n",
        "    runner.run(suite)\n"
      ],
      "metadata": {
        "id": "GUozqRtYv7gP"
      },
      "execution_count": 277,
      "outputs": []
    },
    {
      "cell_type": "markdown",
      "source": [
        "# Class Under Tests - No modificar\n",
        "\n",
        "Clase Clock que permite obtener la hora del sistema."
      ],
      "metadata": {
        "id": "ABhUtTpJtuvK"
      }
    },
    {
      "cell_type": "code",
      "source": [
        "%%writefile clock.py\n",
        "from datetime import datetime\n",
        "\n",
        "class Clock:\n",
        "    count = 0\n",
        "\n",
        "    def __init__(self):\n",
        "        Clock.count += 1\n",
        "\n",
        "    def now(self):\n",
        "        return datetime.now()\n",
        "\n",
        "    @classmethod\n",
        "    def get_instance_count(cls):\n",
        "        return cls.count"
      ],
      "metadata": {
        "colab": {
          "base_uri": "https://localhost:8080/"
        },
        "id": "T_WTLcYRybIE",
        "outputId": "c2a4ebca-55b7-4eca-eaf0-880304b68225"
      },
      "execution_count": 278,
      "outputs": [
        {
          "output_type": "stream",
          "name": "stdout",
          "text": [
            "Overwriting clock.py\n"
          ]
        }
      ]
    },
    {
      "cell_type": "markdown",
      "source": [
        "Clase UserSession"
      ],
      "metadata": {
        "id": "cON89hLTsGjK"
      }
    },
    {
      "cell_type": "code",
      "execution_count": 279,
      "metadata": {
        "colab": {
          "base_uri": "https://localhost:8080/"
        },
        "id": "pDXCpgCptsXc",
        "outputId": "5371aca3-a30a-48bf-d6f5-2ad865a1aa39"
      },
      "outputs": [
        {
          "output_type": "stream",
          "name": "stdout",
          "text": [
            "Overwriting user_session.py\n"
          ]
        }
      ],
      "source": [
        "%%writefile user_session.py\n",
        "from clock import Clock\n",
        "from datetime import timedelta\n",
        "\n",
        "class UserSession:\n",
        "    def __init__(self, user_id: str, clock: Clock = None):\n",
        "        self.user_id = user_id\n",
        "        self.logged_in = False\n",
        "        self.login_time = None\n",
        "        self.failed_attempts = 0\n",
        "        self.clock = clock or Clock()\n",
        "\n",
        "    def login(self, password: str) -> None:\n",
        "        if self.logged_in:\n",
        "            raise ValueError(\"User already logged in\")\n",
        "        if not self._check_password(password):\n",
        "            self.failed_attempts += 1\n",
        "            if self.failed_attempts >= 3:\n",
        "                raise ValueError(\"Too many failed attempts\")\n",
        "            raise ValueError(\"Invalid password\")\n",
        "        self.logged_in = True\n",
        "        self.login_time = self.clock.now()\n",
        "        self.failed_attempts = 0\n",
        "\n",
        "    def logout(self) -> None:\n",
        "        if not self.logged_in:\n",
        "            raise ValueError(\"User not logged in\")\n",
        "        self.logged_in = False\n",
        "        self.login_time = None\n",
        "\n",
        "    def is_session_active(self) -> bool:\n",
        "        if not self.logged_in:\n",
        "            return False\n",
        "        if self.clock.now() - self.login_time > timedelta(minutes=30):\n",
        "            self.logged_in = False\n",
        "            return False\n",
        "        return True\n",
        "\n",
        "    def _check_password(self, password: str) -> bool:\n",
        "        return password == \"secure123\""
      ]
    },
    {
      "cell_type": "markdown",
      "source": [
        "# Actividad 1: Crear unit test para verificar la funcionalidad de la clase UserSession.\n",
        "\n",
        "- El objetivo es tener un coverage de 100%\n",
        "- Los test deben considerar los principios FIRST. En particular replicable, debemos tener los mismos resultados al ejecutar los test a cualquier hora del dia o en diferente computador.\n",
        "- Los test no deben depender de otras clases del sistema. Utilice Mocks para no depender de la clase Clock."
      ],
      "metadata": {
        "id": "FlAXIA6QuW0u"
      }
    },
    {
      "cell_type": "code",
      "source": [
        "%%writefile test_user_session.py\n",
        "\n",
        "import unittest\n",
        "from unittest.mock import Mock\n",
        "from datetime import datetime, timedelta\n",
        "from user_session import *\n",
        "\n",
        "\n",
        "class TestUserSession(unittest.TestCase):\n",
        "    successful_password = \"secure123\"\n",
        "    failing_password = Mock()\n",
        "\n",
        "    def test_successful_login(self):\n",
        "        user_id_mock = Mock()\n",
        "        clock_mock = Mock()\n",
        "\n",
        "        user_session_to_test = UserSession(user_id_mock, clock_mock)\n",
        "        user_session_to_test.login(self.successful_password)\n",
        "\n",
        "        self.assertTrue(user_session_to_test.logged_in)\n",
        "\n",
        "    def test_repeated_successful_login(self):\n",
        "        user_id_mock = Mock()\n",
        "        clock_mock = Mock()\n",
        "\n",
        "        user_session_to_test = UserSession(user_id_mock, clock_mock)\n",
        "        user_session_to_test.login(self.successful_password)\n",
        "\n",
        "        self.assertRaisesRegex(ValueError, \"User already logged in\", user_session_to_test.login, self.successful_password)\n",
        "\n",
        "    def test_failed_login(self):\n",
        "        user_id_mock = Mock()\n",
        "        clock_mock = Mock()\n",
        "\n",
        "        user_session_to_test = UserSession(user_id_mock, clock_mock)\n",
        "\n",
        "        self.assertRaisesRegex(ValueError, \"Invalid password\", user_session_to_test.login, self.failing_password)\n",
        "\n",
        "    def test_acceptable_repeated_failed_login(self):\n",
        "        user_id_mock = Mock()\n",
        "        clock_mock = Mock()\n",
        "\n",
        "        user_session_to_test = UserSession(user_id_mock, clock_mock)\n",
        "        try:\n",
        "            user_session_to_test.login(self.failing_password)\n",
        "        except:\n",
        "            pass\n",
        "\n",
        "        self.assertRaisesRegex(ValueError, \"Invalid password\", user_session_to_test.login, self.failing_password)\n",
        "\n",
        "    def test_too_many_repeated_failed_login(self):\n",
        "        user_id_mock = Mock()\n",
        "        clock_mock = Mock()\n",
        "\n",
        "        user_session_to_test = UserSession(user_id_mock, clock_mock)\n",
        "        for i in range(2):\n",
        "            try:\n",
        "                user_session_to_test.login(self.failing_password)\n",
        "            except:\n",
        "                pass\n",
        "\n",
        "        self.assertRaisesRegex(ValueError, \"Too many failed attempts\", user_session_to_test.login, self.failing_password)\n",
        "\n",
        "    def test_logged_in_logout(self):\n",
        "        user_id_mock = Mock()\n",
        "        clock_mock = Mock()\n",
        "\n",
        "        user_session_to_test = UserSession(user_id_mock, clock_mock)\n",
        "        user_session_to_test.login(self.successful_password)\n",
        "\n",
        "        user_session_to_test.logout()\n",
        "        self.assertFalse(user_session_to_test.logged_in)\n",
        "\n",
        "    def test_not_logged_in_logout(self):\n",
        "        user_id_mock = Mock()\n",
        "        clock_mock = Mock()\n",
        "\n",
        "        user_session_to_test = UserSession(user_id_mock, clock_mock)\n",
        "\n",
        "        self.assertRaisesRegex(ValueError, \"User not logged in\", user_session_to_test.logout)\n",
        "\n",
        "    def test_not_logged_in_is_session_active(self):\n",
        "        user_id_mock = Mock()\n",
        "        clock_mock = Mock()\n",
        "\n",
        "        user_session_to_test = UserSession(user_id_mock, clock_mock)\n",
        "\n",
        "        self.assertFalse(user_session_to_test.is_session_active())\n",
        "\n",
        "    def test_logged_in_is_session_active(self):\n",
        "        user_id_mock = Mock()\n",
        "        clock_mock = Mock()\n",
        "        clock_mock.now = Mock(return_value=timedelta(0))\n",
        "\n",
        "        user_session_to_test = UserSession(user_id_mock, clock_mock)\n",
        "        user_session_to_test.login(self.successful_password)\n",
        "\n",
        "        self.assertTrue(user_session_to_test.is_session_active())\n",
        "\n",
        "    def test_logged_in_with_too_much_elapsed_time_is_session_active(self):\n",
        "        user_id_mock = Mock()\n",
        "        clock_mock = Mock()\n",
        "        clock_mock.now = Mock(return_value=timedelta(0))\n",
        "\n",
        "        user_session_to_test = UserSession(user_id_mock, clock_mock)\n",
        "        user_session_to_test.login(self.successful_password)\n",
        "        clock_mock.now = Mock(return_value=timedelta(minutes=30.0001))\n",
        "\n",
        "        self.assertFalse(user_session_to_test.is_session_active())\n",
        "\n",
        "    def test_logged_out_is_session_active(self):\n",
        "        user_id_mock = Mock()\n",
        "        clock_mock = Mock()\n",
        "\n",
        "        user_session_to_test = UserSession(user_id_mock, clock_mock)\n",
        "        user_session_to_test.login(self.successful_password)\n",
        "        user_session_to_test.logout()\n",
        "\n",
        "        self.assertFalse(user_session_to_test.is_session_active())\n",
        "\n",
        "\n",
        "if __name__ == '__main__':\n",
        "    unittest.main()"
      ],
      "metadata": {
        "colab": {
          "base_uri": "https://localhost:8080/"
        },
        "id": "TdYLxSSLuYMs",
        "outputId": "10b40600-d18c-4968-ad85-dd6adedbcf4a"
      },
      "execution_count": 280,
      "outputs": [
        {
          "output_type": "stream",
          "name": "stdout",
          "text": [
            "Overwriting test_user_session.py\n"
          ]
        }
      ]
    },
    {
      "cell_type": "markdown",
      "source": [
        "# Meta-Test: Prueba tu solución\n",
        "\n",
        "**Importante** para ejecutar las siguientes celdas, reinicia sesion (*\"Restart Session\"*).\n",
        "\n",
        "Nota que las celdas anteriores exportan su contenido a dos archivos user_session.py y test_user_session.py automaticamente gracias a los comandos *%%writefile*.\n",
        "\n",
        "En ocaciones si actualizas el contenido de estas celdas estos archivos no se actualizan, por lo que se recomienda \"Restart Session\" para forsar que estos archivos se actualizen y las celdas se ejecuten con la ultima version de tu codigo en el jupyter book."
      ],
      "metadata": {
        "id": "4J1UUaYuwAdJ"
      }
    },
    {
      "cell_type": "markdown",
      "source": [
        "## Test que verifica que no se crearon instancias de la clase Clock"
      ],
      "metadata": {
        "id": "FprkWkctt6m6"
      }
    },
    {
      "cell_type": "code",
      "source": [
        "from clock import Clock\n",
        "from test_user_session import TestUserSession\n",
        "runTests(TestUserSession)\n",
        "Clock.get_instance_count()"
      ],
      "metadata": {
        "colab": {
          "base_uri": "https://localhost:8080/"
        },
        "id": "fbkta4jynEnS",
        "outputId": "f67291d3-b964-4e25-8793-7fff4b7ff5b9"
      },
      "execution_count": 281,
      "outputs": [
        {
          "output_type": "stream",
          "name": "stderr",
          "text": [
            ".\n",
            "----------------------------------------------------------------------\n",
            "Ran 1 test in 0.002s\n",
            "\n",
            "OK\n"
          ]
        },
        {
          "output_type": "execute_result",
          "data": {
            "text/plain": [
              "0"
            ]
          },
          "metadata": {},
          "execution_count": 281
        }
      ]
    },
    {
      "cell_type": "markdown",
      "source": [
        "## Test que mide el coverage."
      ],
      "metadata": {
        "id": "FUsQrNcAt-sW"
      }
    },
    {
      "cell_type": "code",
      "source": [
        "!coverage run --source=user_session test_user_session.py\n",
        "!coverage report -m"
      ],
      "metadata": {
        "colab": {
          "base_uri": "https://localhost:8080/"
        },
        "id": "5q3u0qmRwOoh",
        "outputId": "7e130068-b124-4ba4-c599-bf076d8f08ad"
      },
      "execution_count": 282,
      "outputs": [
        {
          "output_type": "stream",
          "name": "stdout",
          "text": [
            "...........\n",
            "----------------------------------------------------------------------\n",
            "Ran 11 tests in 0.010s\n",
            "\n",
            "OK\n",
            "Name              Stmts   Miss  Cover   Missing\n",
            "-----------------------------------------------\n",
            "user_session.py      34      0   100%\n",
            "-----------------------------------------------\n",
            "TOTAL                34      0   100%\n"
          ]
        }
      ]
    }
  ]
}